{
 "cells": [
  {
   "cell_type": "markdown",
   "metadata": {
    "collapsed": true
   },
   "source": [
    "# 图像分类\n",
    "\n",
    "在此项目中，你将对 [CIFAR-10 数据集](https://www.cs.toronto.edu/~kriz/cifar.html) 中的图片进行分类。该数据集包含飞机、猫狗和其他物体。你需要预处理这些图片，然后用所有样本训练一个卷积神经网络。图片需要标准化（normalized），标签需要采用 one-hot 编码。你需要应用所学的知识构建卷积（convolution）、最大池化（max pooling）、丢弃（dropout）和完全连接（fully connected）的层。最后，你需要在样本图片上看到神经网络的预测结果。\n",
    "\n",
    "\n",
    "## 获取数据\n",
    "\n",
    "请运行以下单元，以下载 [CIFAR-10 数据集（Python版）](https://www.cs.toronto.edu/~kriz/cifar-10-python.tar.gz)。\n"
   ]
  },
  {
   "cell_type": "code",
   "execution_count": 1,
   "metadata": {},
   "outputs": [
    {
     "name": "stdout",
     "output_type": "stream",
     "text": [
      "All files found!\n"
     ]
    }
   ],
   "source": [
    "\"\"\"\n",
    "DON'T MODIFY ANYTHING IN THIS CELL THAT IS BELOW THIS LINE\n",
    "\"\"\"\n",
    "from urllib.request import urlretrieve\n",
    "from os.path import isfile, isdir\n",
    "from tqdm import tqdm\n",
    "import problem_unittests as tests\n",
    "import tarfile\n",
    "\n",
    "cifar10_dataset_folder_path = 'cifar-10-batches-py'\n",
    "\n",
    "# Use Floyd's cifar-10 dataset if present\n",
    "floyd_cifar10_location = '/input/cifar-10/python.tar.gz'\n",
    "if isfile(floyd_cifar10_location):\n",
    "    tar_gz_path = floyd_cifar10_location\n",
    "else:\n",
    "    tar_gz_path = 'cifar-10-python.tar.gz'\n",
    "\n",
    "class DLProgress(tqdm):\n",
    "    last_block = 0\n",
    "\n",
    "    def hook(self, block_num=1, block_size=1, total_size=None):\n",
    "        self.total = total_size\n",
    "        self.update((block_num - self.last_block) * block_size)\n",
    "        self.last_block = block_num\n",
    "\n",
    "if not isfile(tar_gz_path):\n",
    "    with DLProgress(unit='B', unit_scale=True, miniters=1, desc='CIFAR-10 Dataset') as pbar:\n",
    "        urlretrieve(\n",
    "            'https://www.cs.toronto.edu/~kriz/cifar-10-python.tar.gz',\n",
    "            tar_gz_path,\n",
    "            pbar.hook)\n",
    "\n",
    "if not isdir(cifar10_dataset_folder_path):\n",
    "    with tarfile.open(tar_gz_path) as tar:\n",
    "        tar.extractall()\n",
    "        tar.close()\n",
    "\n",
    "\n",
    "tests.test_folder_path(cifar10_dataset_folder_path)"
   ]
  },
  {
   "cell_type": "markdown",
   "metadata": {},
   "source": [
    "## 探索数据\n",
    "\n",
    "该数据集分成了几部分／批次（batches），以免你的机器在计算时内存不足。CIFAR-10 数据集包含 5 个部分，名称分别为 `data_batch_1`、`data_batch_2`，以此类推。每个部分都包含以下某个类别的标签和图片：\n",
    "\n",
    "* 飞机\n",
    "* 汽车\n",
    "* 鸟类\n",
    "* 猫\n",
    "* 鹿\n",
    "* 狗\n",
    "* 青蛙\n",
    "* 马\n",
    "* 船只\n",
    "* 卡车\n",
    "\n",
    "了解数据集也是对数据进行预测的必经步骤。你可以通过更改 `batch_id` 和 `sample_id` 探索下面的代码单元。`batch_id` 是数据集一个部分的 ID（1 到 5）。`sample_id` 是该部分中图片和标签对（label pair）的 ID。\n",
    "\n",
    "问问你自己：“可能的标签有哪些？”、“图片数据的值范围是多少？”、“标签是按顺序排列，还是随机排列的？”。思考类似的问题，有助于你预处理数据，并使预测结果更准确。\n"
   ]
  },
  {
   "cell_type": "code",
   "execution_count": 2,
   "metadata": {},
   "outputs": [
    {
     "name": "stdout",
     "output_type": "stream",
     "text": [
      "\n",
      "Stats of batch 4:\n",
      "Samples: 10000\n",
      "Label Counts: {0: 1003, 1: 963, 2: 1041, 3: 976, 4: 1004, 5: 1021, 6: 1004, 7: 981, 8: 1024, 9: 983}\n",
      "First 20 Labels: [0, 6, 0, 2, 7, 2, 1, 2, 4, 1, 5, 6, 6, 3, 1, 3, 5, 5, 8, 1]\n",
      "\n",
      "Example of Image 10:\n",
      "Image - Min Value: 44 Max Value: 246\n",
      "Image - Shape: (32, 32, 3)\n",
      "Label - Label Id: 5 Name: dog\n"
     ]
    },
    {
     "data": {
      "image/png": "[encoded data removed]",
      "text/plain": [
       "<matplotlib.figure.Figure at 0x7fec1a57e400>"
      ]
     },
     "metadata": {
      "image/png": {
       "height": 250,
       "width": 253
      }
     },
     "output_type": "display_data"
    }
   ],
   "source": [
    "%matplotlib inline\n",
    "%config InlineBackend.figure_format = 'retina'\n",
    "\n",
    "import helper\n",
    "import numpy as np\n",
    "\n",
    "# Explore the dataset\n",
    "batch_id = 4\n",
    "sample_id = 10\n",
    "helper.display_stats(cifar10_dataset_folder_path, batch_id, sample_id)"
   ]
  },
  {
   "cell_type": "markdown",
   "metadata": {},
   "source": [
    "## 实现预处理函数\n",
    "\n",
    "### 标准化\n",
    "\n",
    "在下面的单元中，实现 `normalize` 函数，传入图片数据 `x`，并返回标准化 Numpy 数组。值应该在 0 到 1 的范围内（含 0 和 1）。返回对象应该和 `x` 的形状一样。\n"
   ]
  },
  {
   "cell_type": "code",
   "execution_count": 3,
   "metadata": {},
   "outputs": [
    {
     "name": "stdout",
     "output_type": "stream",
     "text": [
      "Tests Passed\n"
     ]
    }
   ],
   "source": [
    "def normalize(x):\n",
    "    \"\"\"\n",
    "    Normalize a list of sample image data in the range of 0 to 1\n",
    "    : x: List of image data.  The image shape is (32, 32, 3)\n",
    "    : return: Numpy array of normalize data\n",
    "    \"\"\"\n",
    "    # TODO: Implement Function\n",
    "    return x/np.max(x)\n",
    "\n",
    "    # Method 2:\n",
    "    # return x/255\n",
    "    \n",
    "    # 参考：https://www.zhihu.com/question/36946679?sort=created\n",
    "\n",
    "\"\"\"\n",
    "DON'T MODIFY ANYTHING IN THIS CELL THAT IS BELOW THIS LINE\n",
    "\"\"\"\n",
    "tests.test_normalize(normalize)"
   ]
  },
  {
   "cell_type": "markdown",
   "metadata": {},
   "source": [
    "### One-hot 编码\n",
    "\n",
    "和之前的代码单元一样，你将为预处理实现一个函数。这次，你将实现 `one_hot_encode` 函数。输入，也就是 `x`，是一个标签列表。实现该函数，以返回为 one_hot 编码的 Numpy 数组的标签列表。标签的可能值为 0 到 9。每次调用 `one_hot_encode` 时，对于每个值，one_hot 编码函数应该返回相同的编码。确保将编码映射保存到该函数外面。\n",
    "\n",
    "提示：不要重复发明轮子。\n"
   ]
  },
  {
   "cell_type": "code",
   "execution_count": 4,
   "metadata": {},
   "outputs": [
    {
     "name": "stdout",
     "output_type": "stream",
     "text": [
      "Tests Passed\n"
     ]
    }
   ],
   "source": [
    "from sklearn import preprocessing\n",
    "labels = np.array([0,1,2,3,4,5,6,7,8,9])\n",
    "lb = preprocessing.LabelBinarizer()\n",
    "lb.fit(labels)\n",
    "\n",
    "def one_hot_encode(x):\n",
    "    \"\"\"\n",
    "    One hot encode a list of sample labels. Return a one-hot encoded vector for each label.\n",
    "    : x: List of sample Labels\n",
    "    : return: Numpy array of one-hot encoded labels\n",
    "    \"\"\"\n",
    "    # TODO: Implement Function\n",
    "    return lb.transform(x)\n",
    "\n",
    "\"\"\"\n",
    "DON'T MODIFY ANYTHING IN THIS CELL THAT IS BELOW THIS LINE\n",
    "\"\"\"\n",
    "tests.test_one_hot_encode(one_hot_encode)"
   ]
  },
  {
   "cell_type": "markdown",
   "metadata": {},
   "source": [
    "### 随机化数据\n",
    "\n",
    "之前探索数据时，你已经了解到，样本的顺序是随机的。再随机化一次也不会有什么关系，但是对于这个数据集没有必要。\n"
   ]
  },
  {
   "cell_type": "markdown",
   "metadata": {},
   "source": [
    "## 预处理所有数据并保存\n",
    "\n",
    "运行下方的代码单元，将预处理所有 CIFAR-10 数据，并保存到文件中。下面的代码还使用了 10% 的训练数据，用来验证。\n"
   ]
  },
  {
   "cell_type": "code",
   "execution_count": 5,
   "metadata": {
    "collapsed": true
   },
   "outputs": [],
   "source": [
    "\"\"\"\n",
    "DON'T MODIFY ANYTHING IN THIS CELL\n",
    "\"\"\"\n",
    "# Preprocess Training, Validation, and Testing Data\n",
    "helper.preprocess_and_save_data(cifar10_dataset_folder_path, normalize, one_hot_encode)"
   ]
  },
  {
   "cell_type": "markdown",
   "metadata": {},
   "source": [
    "# 检查点\n",
    "\n",
    "这是你的第一个检查点。如果你什么时候决定再回到该记事本，或需要重新启动该记事本，你可以从这里开始。预处理的数据已保存到本地。\n"
   ]
  },
  {
   "cell_type": "code",
   "execution_count": 6,
   "metadata": {
    "collapsed": true
   },
   "outputs": [],
   "source": [
    "\"\"\"\n",
    "DON'T MODIFY ANYTHING IN THIS CELL\n",
    "\"\"\"\n",
    "import pickle\n",
    "import problem_unittests as tests\n",
    "import helper\n",
    "\n",
    "# Load the Preprocessed Validation data\n",
    "valid_features, valid_labels = pickle.load(open('preprocess_validation.p', mode='rb'))\n",
    "\n",
    "#print(valid_features[10])\n",
    "#print(valid_labels[1000])"
   ]
  },
  {
   "cell_type": "markdown",
   "metadata": {},
   "source": [
    "## 构建网络\n",
    "\n",
    "对于该神经网络，你需要将每层都构建为一个函数。你看到的大部分代码都位于函数外面。要更全面地测试你的代码，我们需要你将每层放入一个函数中。这样使我们能够提供更好的反馈，并使用我们的统一测试检测简单的错误，然后再提交项目。\n",
    "\n",
    ">**注意**：如果你觉得每周很难抽出足够的时间学习这门课程，我们为此项目提供了一个小捷径。对于接下来的几个问题，你可以使用 [TensorFlow Layers](https://www.tensorflow.org/api_docs/python/tf/layers) 或 [TensorFlow Layers (contrib)](https://www.tensorflow.org/api_guides/python/contrib.layers) 程序包中的类来构建每个层级，但是“卷积和最大池化层级”部分的层级除外。TF Layers 和 Keras 及 TFLearn 层级类似，因此很容易学会。\n",
    "\n",
    ">但是，如果你想充分利用这门课程，请尝试自己解决所有问题，不使用 TF Layers 程序包中的任何类。你依然可以使用其他程序包中的类，这些类和你在 TF Layers 中的类名称是一样的！例如，你可以使用 TF Neural Network 版本的 `conv2d` 类 [tf.nn.conv2d](https://www.tensorflow.org/api_docs/python/tf/nn/conv2d)，而不是 TF Layers 版本的 `conv2d` 类 [tf.layers.conv2d](https://www.tensorflow.org/api_docs/python/tf/layers/conv2d)。\n",
    "\n",
    "我们开始吧！\n",
    "\n",
    "\n",
    "### 输入\n",
    "\n",
    "神经网络需要读取图片数据、one-hot 编码标签和丢弃保留概率（dropout keep probability）。请实现以下函数：\n",
    "\n",
    "* 实现 `neural_net_image_input`\n",
    " * 返回 [TF Placeholder](https://www.tensorflow.org/api_docs/python/tf/placeholder)\n",
    " * 使用 `image_shape` 设置形状，部分大小设为 `None`\n",
    " * 使用 [TF Placeholder](https://www.tensorflow.org/api_docs/python/tf/placeholder) 中的 TensorFlow `name` 参数对 TensorFlow 占位符 \"x\" 命名\n",
    "* 实现 `neural_net_label_input`\n",
    " * 返回 [TF Placeholder](https://www.tensorflow.org/api_docs/python/tf/placeholder)\n",
    " * 使用 `n_classes` 设置形状，部分大小设为 `None`\n",
    " * 使用 [TF Placeholder](https://www.tensorflow.org/api_docs/python/tf/placeholder) 中的 TensorFlow `name` 参数对 TensorFlow 占位符 \"y\" 命名\n",
    "* 实现 `neural_net_keep_prob_input`\n",
    " * 返回 [TF Placeholder](https://www.tensorflow.org/api_docs/python/tf/placeholder)，用于丢弃保留概率\n",
    " * 使用 [TF Placeholder](https://www.tensorflow.org/api_docs/python/tf/placeholder) 中的 TensorFlow `name` 参数对 TensorFlow 占位符 \"keep_prob\" 命名\n",
    "\n",
    "这些名称将在项目结束时，用于加载保存的模型。\n",
    "\n",
    "注意：TensorFlow 中的 `None` 表示形状可以是动态大小。"
   ]
  },
  {
   "cell_type": "code",
   "execution_count": 41,
   "metadata": {},
   "outputs": [
    {
     "name": "stdout",
     "output_type": "stream",
     "text": [
      "Image Input Tests Passed.\n",
      "Label Input Tests Passed.\n",
      "Keep Prob Tests Passed.\n"
     ]
    }
   ],
   "source": [
    "import tensorflow as tf\n",
    "\n",
    "def neural_net_image_input(image_shape):\n",
    "    \"\"\"\n",
    "    Return a Tensor for a batch of image input\n",
    "    : image_shape: Shape of the images\n",
    "    : return: Tensor for image input.\n",
    "    \"\"\"\n",
    "    # TODO: Implement Function\n",
    "    x = tf.placeholder(tf.float32, shape=[None, image_shape[0], image_shape[1], image_shape[2]], name=\"x\")\n",
    "    return x\n",
    "\n",
    "def neural_net_label_input(n_classes):\n",
    "    \"\"\"\n",
    "    Return a Tensor for a batch of label input\n",
    "    : n_classes: Number of classes\n",
    "    : return: Tensor for label input.\n",
    "    \"\"\"\n",
    "    # TODO: Implement Function\n",
    "    y = tf.placeholder(tf.float32, shape=[None, n_classes], name=\"y\")\n",
    "    return y\n",
    "\n",
    "\n",
    "def neural_net_keep_prob_input():\n",
    "    \"\"\"\n",
    "    Return a Tensor for keep probability\n",
    "    : return: Tensor for keep probability.\n",
    "    \"\"\"\n",
    "    # TODO: Implement Function\n",
    "    keep_prob = tf.placeholder(tf.float32, None, name=\"keep_prob\")\n",
    "    return keep_prob  \n",
    "\n",
    "\n",
    "\"\"\"\n",
    "DON'T MODIFY ANYTHING IN THIS CELL THAT IS BELOW THIS LINE\n",
    "\"\"\"\n",
    "tf.reset_default_graph()\n",
    "tests.test_nn_image_inputs(neural_net_image_input)\n",
    "tests.test_nn_label_inputs(neural_net_label_input)\n",
    "tests.test_nn_keep_prob_inputs(neural_net_keep_prob_input)"
   ]
  },
  {
   "cell_type": "markdown",
   "metadata": {},
   "source": [
    "### 卷积和最大池化层\n",
    "\n",
    "卷积层级适合处理图片。对于此代码单元，你应该实现函数 `conv2d_maxpool` 以便应用卷积然后进行最大池化：\n",
    "\n",
    "* 使用 `conv_ksize`、`conv_num_outputs` 和 `x_tensor` 的形状创建权重（weight）和偏置（bias）。\n",
    "* 使用权重和 `conv_strides` 对 `x_tensor` 应用卷积。\n",
    " * 建议使用我们建议的间距（padding），当然也可以使用任何其他间距。\n",
    "* 添加偏置\n",
    "* 向卷积中添加非线性激活（nonlinear activation）\n",
    "* 使用 `pool_ksize` 和 `pool_strides` 应用最大池化\n",
    " * 建议使用我们建议的间距（padding），当然也可以使用任何其他间距。\n",
    "\n",
    "**注意**：对于**此层**，**请勿使用** [TensorFlow Layers](https://www.tensorflow.org/api_docs/python/tf/layers) 或 [TensorFlow Layers (contrib)](https://www.tensorflow.org/api_guides/python/contrib.layers)，但是仍然可以使用 TensorFlow 的 [Neural Network](https://www.tensorflow.org/api_docs/python/tf/nn) 包。对于所有**其他层**，你依然可以使用快捷方法。\n"
   ]
  },
  {
   "cell_type": "code",
   "execution_count": 42,
   "metadata": {},
   "outputs": [
    {
     "name": "stdout",
     "output_type": "stream",
     "text": [
      "Tests Passed\n"
     ]
    }
   ],
   "source": [
    "def conv2d_maxpool(x_tensor, conv_num_outputs, conv_ksize, conv_strides, pool_ksize, pool_strides):\n",
    "    \"\"\"\n",
    "    Apply convolution then max pooling to x_tensor\n",
    "    :param x_tensor: TensorFlow Tensor\n",
    "    :param conv_num_outputs: Number of outputs for the convolutional layer\n",
    "    :param conv_ksize: kernal size 2-D Tuple for the convolutional layer\n",
    "    :param conv_strides: Stride 2-D Tuple for convolution\n",
    "    :param pool_ksize: kernal size 2-D Tuple for pool\n",
    "    :param pool_strides: Stride 2-D Tuple for pool\n",
    "    : return: A tensor that represents convolution and max pooling of x_tensor\n",
    "    \"\"\"\n",
    "    # TODO: Implement Function\n",
    "    \n",
    "    # 权重（从截断的正态分布中输出随机值） --横轴区间（μ-2σ，μ+2σ）内的面积为95.449974%\n",
    "    conv_weights = tf.Variable(tf.truncated_normal(\n",
    "        [conv_ksize[0], conv_ksize[1], x_tensor.shape[3].value, conv_num_outputs]))\n",
    "    \n",
    "    # 偏置项（从正态分布中输出随机值）\n",
    "    # conv_bias = tf.Variable(tf.random_normal([conv_num_outputs]))\n",
    "    \n",
    "    # 偏置项（建议使用tf.zeros来初始化为零值）\n",
    "    # 参考：https://stackoverflow.com/questions/2480650/role-of-bias-in-neural-networks\n",
    "    conv_bias = tf.Variable(tf.zeros([conv_num_outputs]))\n",
    "    \n",
    "    # 卷积层\n",
    "    conv_layer = tf.nn.conv2d(x_tensor, conv_weights, \n",
    "                            strides=[1, conv_strides[0], conv_strides[1], 1], padding='SAME')\n",
    "    conv_layer = tf.nn.bias_add(conv_layer, conv_bias)\n",
    "    \n",
    "    # conv_layer = tf.nn.relu(conv_layer)\n",
    "    # ReLU函数f(x) = max(0, x)的作用是把所有负输入置为0，\n",
    "    # 最大池化(max pooling)函数给出相邻矩形区域内的最大值, \n",
    "    # 因为使用的是ReLU激活函数，如果把ReLU放在Max-Pooling下面\n",
    "    # 会使部分ReLU的计算结果得以保留，效果会更好\n",
    "    \n",
    "    # 最大池化层\n",
    "    conv_pool = tf.nn.max_pool(conv_layer,\n",
    "                                  ksize=[1, pool_ksize[0], pool_ksize[1], 1],\n",
    "                                  strides=[1, pool_strides[0], pool_strides[1], 1],\n",
    "                                  padding='SAME')\n",
    "    conv_pool = tf.nn.relu(conv_pool)\n",
    "    \n",
    "    return conv_pool\n",
    "\n",
    "\"\"\"\n",
    "DON'T MODIFY ANYTHING IN THIS CELL THAT IS BELOW THIS LINE\n",
    "\"\"\"\n",
    "tests.test_con_pool(conv2d_maxpool)"
   ]
  },
  {
   "cell_type": "markdown",
   "metadata": {},
   "source": [
    "### 扁平化层\n",
    "\n",
    "实现 `flatten` 函数，将 `x_tensor` 的维度从四维张量（4-D tensor）变成二维张量。输出应该是形状（*部分大小（Batch Size）*，*扁平化图片大小（Flattened Image Size）*）。快捷方法：对于此层，你可以使用 [TensorFlow Layers](https://www.tensorflow.org/api_docs/python/tf/layers) 或 [TensorFlow Layers (contrib)](https://www.tensorflow.org/api_guides/python/contrib.layers) 包中的类。如果你想要更大挑战，可以仅使用其他 TensorFlow 程序包。\n"
   ]
  },
  {
   "cell_type": "code",
   "execution_count": 43,
   "metadata": {},
   "outputs": [
    {
     "name": "stdout",
     "output_type": "stream",
     "text": [
      "Tests Passed\n"
     ]
    }
   ],
   "source": [
    "def flatten(x_tensor):\n",
    "    \"\"\"\n",
    "    Flatten x_tensor to (Batch Size, Flattened Image Size)\n",
    "    : x_tensor: A tensor of size (Batch Size, ...), where ... are the image dimensions.\n",
    "    : return: A tensor of size (Batch Size, Flattened Image Size).\n",
    "    \"\"\"\n",
    "    # TODO: Implement Function\n",
    "    return tf.contrib.layers.flatten(x_tensor)\n",
    "\n",
    "\n",
    "\"\"\"\n",
    "DON'T MODIFY ANYTHING IN THIS CELL THAT IS BELOW THIS LINE\n",
    "\"\"\"\n",
    "tests.test_flatten(flatten)"
   ]
  },
  {
   "cell_type": "markdown",
   "metadata": {},
   "source": [
    "### 全连接层\n",
    "\n",
    "实现 `fully_conn` 函数，以向 `x_tensor` 应用完全连接的层级，形状为（*部分大小（Batch Size）*，*num_outputs*）。快捷方法：对于此层，你可以使用 [TensorFlow Layers](https://www.tensorflow.org/api_docs/python/tf/layers) 或 [TensorFlow Layers (contrib)](https://www.tensorflow.org/api_guides/python/contrib.layers) 包中的类。如果你想要更大挑战，可以仅使用其他 TensorFlow 程序包。"
   ]
  },
  {
   "cell_type": "code",
   "execution_count": 44,
   "metadata": {},
   "outputs": [
    {
     "name": "stdout",
     "output_type": "stream",
     "text": [
      "Tests Passed\n"
     ]
    }
   ],
   "source": [
    "def fully_conn(x_tensor, num_outputs):\n",
    "    \"\"\"\n",
    "    Apply a fully connected layer to x_tensor using weight and bias\n",
    "    : x_tensor: A 2-D tensor where the first dimension is batch size.\n",
    "    : num_outputs: The number of output that the new tensor should be.\n",
    "    : return: A 2-D tensor where the second dimension is num_outputs.\n",
    "    \"\"\"\n",
    "    # TODO: Implement Function\n",
    "    \n",
    "    # 权重（从截断的正态分布中输出随机值） --横轴区间（μ-2σ，μ+2σ）内的面积为95.449974%\n",
    "    # 关于权重的初始化，希望权重非常接近零但又不为零，\n",
    "    # tf.truncated_normal函数预设的标准差stddev = 1，\n",
    "    # 可以改成更小的数值如0.05或0.1，加快模型的收敛\n",
    "    # 参考：http://neuralnetworksanddeeplearning.com/chap3.html#weight_initialization\n",
    "    weights = tf.Variable(tf.truncated_normal([x_tensor.shape[1].value, num_outputs], stddev = 0.1))\n",
    "    \n",
    "    # 偏置项（从正态分布中输出随机值）\n",
    "    # bias = tf.Variable(tf.random_normal([num_outputs]))\n",
    "    \n",
    "    # 偏置项（建议使用tf.zeros来初始化为零值）\n",
    "    # 参考：https://stackoverflow.com/questions/2480650/role-of-bias-in-neural-networks\n",
    "    bias = tf.Variable(tf.zeros([num_outputs]))\n",
    "    \n",
    "    # 全连接层\n",
    "    full_layer = tf.add(tf.matmul(x_tensor, weights), bias)\n",
    "    full_layer = tf.nn.relu(full_layer) #非线性激活函数\n",
    "    \n",
    "    return full_layer\n",
    "\n",
    "\n",
    "\"\"\"\n",
    "DON'T MODIFY ANYTHING IN THIS CELL THAT IS BELOW THIS LINE\n",
    "\"\"\"\n",
    "tests.test_fully_conn(fully_conn)"
   ]
  },
  {
   "cell_type": "markdown",
   "metadata": {},
   "source": [
    "### 输出层\n",
    "\n",
    "实现 `output` 函数，向 x_tensor 应用完全连接的层级，形状为（*部分大小（Batch Size）*，*num_outputs*）。快捷方法：对于此层，你可以使用 [TensorFlow Layers](https://www.tensorflow.org/api_docs/python/tf/layers) 或 [TensorFlow Layers (contrib)](https://www.tensorflow.org/api_guides/python/contrib.layers) 包中的类。如果你想要更大挑战，可以仅使用其他 TensorFlow 程序包。\n",
    "\n",
    "**注意**：该层级不应应用 Activation、softmax 或交叉熵（cross entropy）。"
   ]
  },
  {
   "cell_type": "code",
   "execution_count": 45,
   "metadata": {},
   "outputs": [
    {
     "name": "stdout",
     "output_type": "stream",
     "text": [
      "128\n",
      "Tests Passed\n"
     ]
    }
   ],
   "source": [
    "def output(x_tensor, num_outputs):\n",
    "    \"\"\"\n",
    "    Apply a output layer to x_tensor using weight and bias\n",
    "    : x_tensor: A 2-D tensor where the first dimension is batch size.\n",
    "    : num_outputs: The number of output that the new tensor should be.\n",
    "    : return: A 2-D tensor where the second dimension is num_outputs.\n",
    "    \"\"\"\n",
    "    # TODO: Implement Function\n",
    "    num_inputs = x_tensor.get_shape()[1].value\n",
    "    print(num_inputs)\n",
    "    \n",
    "    # 权重（从截断的正态分布中输出随机值） --横轴区间（μ-2σ，μ+2σ）内的面积为95.449974%\n",
    "    weight = tf.Variable(tf.truncated_normal([num_inputs, num_outputs], stddev = 0.1))\n",
    "    \n",
    "    # 偏置项（从正态分布中输出随机值）\n",
    "    # bias = tf.Variable(tf.random_normal([num_outputs]))\n",
    "    \n",
    "    # 偏置项（建议使用tf.zeros来初始化为零值）\n",
    "    bias = tf.Variable(tf.zeros([num_outputs]))\n",
    "    \n",
    "    # 输出层\n",
    "    output_layer = tf.add(tf.matmul(x_tensor, weight),bias)\n",
    "    \n",
    "    return output_layer\n",
    "\n",
    "\"\"\"\n",
    "DON'T MODIFY ANYTHING IN THIS CELL THAT IS BELOW THIS LINE\n",
    "\"\"\"\n",
    "tests.test_output(output)"
   ]
  },
  {
   "cell_type": "markdown",
   "metadata": {},
   "source": [
    "### 创建卷积模型\n",
    "\n",
    "实现函数 `conv_net`， 创建卷积神经网络模型。该函数传入一批图片 `x`，并输出对数（logits）。使用你在上方创建的层创建此模型：\n",
    "\n",
    "* 应用 1、2 或 3 个卷积和最大池化层（Convolution and Max Pool layers）\n",
    "* 应用一个扁平层（Flatten Layer）\n",
    "* 应用 1、2 或 3 个完全连接层（Fully Connected Layers）\n",
    "* 应用一个输出层（Output Layer）\n",
    "* 返回输出\n",
    "* 使用 `keep_prob` 向模型中的一个或多个层应用 [TensorFlow 的 Dropout](https://www.tensorflow.org/api_docs/python/tf/nn/dropout)"
   ]
  },
  {
   "cell_type": "code",
   "execution_count": 46,
   "metadata": {},
   "outputs": [
    {
     "name": "stdout",
     "output_type": "stream",
     "text": [
      "1024\n",
      "1024\n",
      "Neural Network Built!\n"
     ]
    }
   ],
   "source": [
    "def conv_net(x, keep_prob):\n",
    "    \"\"\"\n",
    "    Create a convolutional neural network model\n",
    "    : x: Placeholder tensor that holds image data.\n",
    "    : keep_prob: Placeholder tensor that hold dropout keep probability.\n",
    "    : return: Tensor that represents logits\n",
    "    \"\"\"\n",
    "    \n",
    "    \"\"\"\n",
    "    首先参数的设定方面建议以2的n次方的形式设定，便于tensorflow优化计算。\n",
    "    可以尝试增加1到2层卷积和全链接层\n",
    "    \n",
    "    卷积的输出通道数可以设为如 32 - 64 - 128 这样逐渐递增的形式；\n",
    "    全连接层的节点数可以考虑类似 512 - 256 -10 的设定；\n",
    "    \n",
    "    关于maxpool，对这个项目来说经验效果比较好的是：\n",
    "    pooling核大小取(3,3)或(2,2)，pooling步长取(2,2)\n",
    "    \"\"\"\n",
    "    \n",
    "    # TODO: Apply 1, 2, or 3 Convolution and Max Pool layers\n",
    "    #    Play around with different number of outputs, kernel size and stride\n",
    "    # Function Definition from Above:\n",
    "    #    conv2d_maxpool(x_tensor, conv_num_outputs, conv_ksize, conv_strides, pool_ksize, pool_strides)\n",
    "    x = conv2d_maxpool(x,conv_num_outputs=128,\n",
    "                        conv_ksize=(3, 3),\n",
    "                        conv_strides=(1, 1),\n",
    "                        pool_ksize=(2, 2),\n",
    "                        pool_strides=(2, 2))\n",
    "\n",
    "    # TODO: Apply a Flatten Layer\n",
    "    # Function Definition from Above:\n",
    "    #   flatten(x_tensor)\n",
    "    x = flatten(x)\n",
    "    \n",
    "\n",
    "    # TODO: Apply 1, 2, or 3 Fully Connected Layers\n",
    "    #    Play around with different number of outputs\n",
    "    # Function Definition from Above:\n",
    "    #   fully_conn(x_tensor, num_outputs)\n",
    "    x = fully_conn(x, 1024)\n",
    "    \n",
    "    x = tf.nn.dropout(x, keep_prob)\n",
    "    \n",
    "    # TODO: Apply an Output Layer\n",
    "    #    Set this to the number of classes\n",
    "    # Function Definition from Above:\n",
    "    #   output(x_tensor, num_outputs)\n",
    "    x = output(x, 10)\n",
    "    \n",
    "    # TODO: return output\n",
    "    return x\n",
    "\n",
    "\n",
    "\"\"\"\n",
    "DON'T MODIFY ANYTHING IN THIS CELL THAT IS BELOW THIS LINE\n",
    "\"\"\"\n",
    "\n",
    "##############################\n",
    "## Build the Neural Network ##\n",
    "##############################\n",
    "\n",
    "# Remove previous weights, bias, inputs, etc..\n",
    "tf.reset_default_graph()\n",
    "\n",
    "# Inputs\n",
    "x = neural_net_image_input((32, 32, 3))\n",
    "y = neural_net_label_input(10)\n",
    "keep_prob = neural_net_keep_prob_input()\n",
    "\n",
    "# Model\n",
    "logits = conv_net(x, keep_prob)\n",
    "\n",
    "# Name logits Tensor, so that is can be loaded from disk after training\n",
    "logits = tf.identity(logits, name='logits')\n",
    "\n",
    "# Loss and Optimizer\n",
    "cost = tf.reduce_mean(tf.nn.softmax_cross_entropy_with_logits(logits=logits, labels=y))\n",
    "optimizer = tf.train.AdamOptimizer().minimize(cost)\n",
    "\n",
    "# Accuracy\n",
    "correct_pred = tf.equal(tf.argmax(logits, 1), tf.argmax(y, 1))\n",
    "accuracy = tf.reduce_mean(tf.cast(correct_pred, tf.float32), name='accuracy')\n",
    "\n",
    "tests.test_conv_net(conv_net)"
   ]
  },
  {
   "cell_type": "markdown",
   "metadata": {},
   "source": [
    "## 训练神经网络\n",
    "\n",
    "### 单次优化\n",
    "\n",
    "实现函数 `train_neural_network` 以进行单次优化（single optimization）。该优化应该使用 `optimizer` 优化 `session`，其中 `feed_dict` 具有以下参数：\n",
    "\n",
    "* `x` 表示图片输入\n",
    "* `y` 表示标签\n",
    "* `keep_prob` 表示丢弃的保留率\n",
    "\n",
    "每个部分都会调用该函数，所以 `tf.global_variables_initializer()` 已经被调用。\n",
    "\n",
    "注意：不需要返回任何内容。该函数只是用来优化神经网络。\n"
   ]
  },
  {
   "cell_type": "code",
   "execution_count": 47,
   "metadata": {},
   "outputs": [
    {
     "name": "stdout",
     "output_type": "stream",
     "text": [
      "Tests Passed\n"
     ]
    }
   ],
   "source": [
    "def train_neural_network(session, optimizer, keep_probability, feature_batch, label_batch):\n",
    "    \"\"\"\n",
    "    Optimize the session on a batch of images and labels\n",
    "    : session: Current TensorFlow session\n",
    "    : optimizer: TensorFlow optimizer function\n",
    "    : keep_probability: keep probability\n",
    "    : feature_batch: Batch of Numpy image data\n",
    "    : label_batch: Batch of Numpy label data\n",
    "    \"\"\"\n",
    "    # TODO: Implement Function\n",
    "    feed_dict = {x: feature_batch, \n",
    "                 y: label_batch, \n",
    "                 keep_prob: keep_probability}\n",
    "    \n",
    "    session.run(optimizer, feed_dict)\n",
    "\n",
    "\n",
    "\"\"\"\n",
    "DON'T MODIFY ANYTHING IN THIS CELL THAT IS BELOW THIS LINE\n",
    "\"\"\"\n",
    "tests.test_train_nn(train_neural_network)"
   ]
  },
  {
   "cell_type": "markdown",
   "metadata": {},
   "source": [
    "### 显示数据\n",
    "\n",
    "实现函数 `print_stats` 以输出损失和验证准确率。使用全局变量 `valid_features` 和 `valid_labels` 计算验证准确率。使用保留率 `1.0` 计算损失和验证准确率（loss and validation accuracy）。\n"
   ]
  },
  {
   "cell_type": "code",
   "execution_count": 48,
   "metadata": {
    "collapsed": true
   },
   "outputs": [],
   "source": [
    "def print_stats(session, feature_batch, label_batch, cost, accuracy):\n",
    "    \"\"\"\n",
    "    Print information about loss and validation accuracy\n",
    "    : session: Current TensorFlow session\n",
    "    : feature_batch: Batch of Numpy image data\n",
    "    : label_batch: Batch of Numpy label data\n",
    "    : cost: TensorFlow cost function\n",
    "    : accuracy: TensorFlow accuracy function\n",
    "    \"\"\"\n",
    "    # TODO: Implement Function\n",
    "    cost = session.run(\n",
    "        cost, \n",
    "        feed_dict={x: feature_batch,\n",
    "                   y: label_batch,\n",
    "                   keep_prob: 1.0})\n",
    "    \n",
    "    accuracy = session.run(\n",
    "        accuracy, \n",
    "        feed_dict={x: valid_features,\n",
    "                   y: valid_labels,\n",
    "                   keep_prob: 1.0})\n",
    "    \n",
    "    print('loss: {}, accuracy: {}'.format(cost, accuracy))"
   ]
  },
  {
   "cell_type": "markdown",
   "metadata": {},
   "source": [
    "### 超参数\n",
    "\n",
    "调试以下超参数：\n",
    "* 设置 `epochs` 表示神经网络停止学习或开始过拟合的迭代次数\n",
    "* 设置 `batch_size`，表示机器内存允许的部分最大体积。大部分人设为以下常见内存大小：\n",
    "\n",
    " * 64\n",
    " * 128\n",
    " * 256\n",
    " * ...\n",
    "* 设置 `keep_probability` 表示使用丢弃时保留节点的概率"
   ]
  },
  {
   "cell_type": "code",
   "execution_count": 49,
   "metadata": {
    "collapsed": true
   },
   "outputs": [],
   "source": [
    "# TODO: Tune Parameters\n",
    "epochs = 20\n",
    "batch_size = 512\n",
    "keep_probability = 0.8"
   ]
  },
  {
   "cell_type": "markdown",
   "metadata": {},
   "source": [
    "### 在单个 CIFAR-10 部分上训练\n",
    "\n",
    "我们先用单个部分，而不是用所有的 CIFAR-10 批次训练神经网络。这样可以节省时间，并对模型进行迭代，以提高准确率。最终验证准确率达到 50% 或以上之后，在下一部分对所有数据运行模型。\n"
   ]
  },
  {
   "cell_type": "code",
   "execution_count": 50,
   "metadata": {},
   "outputs": [
    {
     "name": "stdout",
     "output_type": "stream",
     "text": [
      "Checking the Training on a Single Batch...\n",
      "Epoch  1, CIFAR-10 Batch 1:  loss: 21.140670776367188, accuracy: 0.22659997642040253\n",
      "Epoch  2, CIFAR-10 Batch 1:  loss: 3.08276104927063, accuracy: 0.20659999549388885\n",
      "Epoch  3, CIFAR-10 Batch 1:  loss: 2.2424750328063965, accuracy: 0.1565999835729599\n",
      "Epoch  4, CIFAR-10 Batch 1:  loss: 2.195406198501587, accuracy: 0.17579999566078186\n",
      "Epoch  5, CIFAR-10 Batch 1:  loss: 2.170839548110962, accuracy: 0.19539999961853027\n",
      "Epoch  6, CIFAR-10 Batch 1:  loss: 2.1313138008117676, accuracy: 0.21859997510910034\n",
      "Epoch  7, CIFAR-10 Batch 1:  loss: 2.090762138366699, accuracy: 0.2247999906539917\n",
      "Epoch  8, CIFAR-10 Batch 1:  loss: 2.043330192565918, accuracy: 0.24159997701644897\n",
      "Epoch  9, CIFAR-10 Batch 1:  loss: 2.000920534133911, accuracy: 0.24979998171329498\n",
      "Epoch 10, CIFAR-10 Batch 1:  loss: 1.9625234603881836, accuracy: 0.26739999651908875\n",
      "Epoch 11, CIFAR-10 Batch 1:  loss: 1.9020825624465942, accuracy: 0.287200003862381\n",
      "Epoch 12, CIFAR-10 Batch 1:  loss: 1.8443002700805664, accuracy: 0.2916000187397003\n",
      "Epoch 13, CIFAR-10 Batch 1:  loss: 1.8254315853118896, accuracy: 0.3041999936103821\n",
      "Epoch 14, CIFAR-10 Batch 1:  loss: 1.7807326316833496, accuracy: 0.32359999418258667\n",
      "Epoch 15, CIFAR-10 Batch 1:  loss: 1.7568154335021973, accuracy: 0.3301999866962433\n",
      "Epoch 16, CIFAR-10 Batch 1:  loss: 1.7178926467895508, accuracy: 0.3399999737739563\n",
      "Epoch 17, CIFAR-10 Batch 1:  loss: 1.633650779724121, accuracy: 0.34539997577667236\n",
      "Epoch 18, CIFAR-10 Batch 1:  loss: 1.6373950242996216, accuracy: 0.353799968957901\n",
      "Epoch 19, CIFAR-10 Batch 1:  loss: 1.5423270463943481, accuracy: 0.36299997568130493\n",
      "Epoch 20, CIFAR-10 Batch 1:  loss: 1.5165066719055176, accuracy: 0.3734000027179718\n"
     ]
    }
   ],
   "source": [
    "\"\"\"\n",
    "DON'T MODIFY ANYTHING IN THIS CELL\n",
    "\"\"\"\n",
    "print('Checking the Training on a Single Batch...')\n",
    "with tf.Session() as sess:\n",
    "    # Initializing the variables\n",
    "    sess.run(tf.global_variables_initializer())\n",
    "    \n",
    "    # Training cycle\n",
    "    for epoch in range(epochs):\n",
    "        batch_i = 1\n",
    "        for batch_features, batch_labels in helper.load_preprocess_training_batch(batch_i, batch_size):\n",
    "            train_neural_network(sess, optimizer, keep_probability, batch_features, batch_labels)\n",
    "        print('Epoch {:>2}, CIFAR-10 Batch {}:  '.format(epoch + 1, batch_i), end='')\n",
    "        print_stats(sess, batch_features, batch_labels, cost, accuracy)"
   ]
  },
  {
   "cell_type": "markdown",
   "metadata": {},
   "source": [
    "### 完全训练模型\n",
    "\n",
    "现在，单个 CIFAR-10 部分的准确率已经不错了，试试所有五个部分吧。"
   ]
  },
  {
   "cell_type": "code",
   "execution_count": 51,
   "metadata": {},
   "outputs": [
    {
     "name": "stdout",
     "output_type": "stream",
     "text": [
      "Training...\n",
      "Epoch  1, CIFAR-10 Batch 1:  loss: 42.20553207397461, accuracy: 0.22439998388290405\n",
      "Epoch  1, CIFAR-10 Batch 2:  loss: 5.59657096862793, accuracy: 0.23399999737739563\n",
      "Epoch  1, CIFAR-10 Batch 3:  loss: 2.2835745811462402, accuracy: 0.16920000314712524\n",
      "Epoch  1, CIFAR-10 Batch 4:  loss: 2.131751537322998, accuracy: 0.22119998931884766\n",
      "Epoch  1, CIFAR-10 Batch 5:  loss: 2.1529502868652344, accuracy: 0.24219997227191925\n",
      "Epoch  2, CIFAR-10 Batch 1:  loss: 2.1597440242767334, accuracy: 0.25599998235702515\n",
      "Epoch  2, CIFAR-10 Batch 2:  loss: 2.023102045059204, accuracy: 0.2587999999523163\n",
      "Epoch  2, CIFAR-10 Batch 3:  loss: 2.02335262298584, accuracy: 0.2675999701023102\n",
      "Epoch  2, CIFAR-10 Batch 4:  loss: 1.9530134201049805, accuracy: 0.2685999870300293\n",
      "Epoch  2, CIFAR-10 Batch 5:  loss: 2.000969409942627, accuracy: 0.2825999855995178\n",
      "Epoch  3, CIFAR-10 Batch 1:  loss: 2.019263982772827, accuracy: 0.2881999909877777\n",
      "Epoch  3, CIFAR-10 Batch 2:  loss: 1.8732759952545166, accuracy: 0.29239997267723083\n",
      "Epoch  3, CIFAR-10 Batch 3:  loss: 1.8577934503555298, accuracy: 0.301800012588501\n",
      "Epoch  3, CIFAR-10 Batch 4:  loss: 1.8369874954223633, accuracy: 0.30059999227523804\n",
      "Epoch  3, CIFAR-10 Batch 5:  loss: 1.872228980064392, accuracy: 0.3083999752998352\n",
      "Epoch  4, CIFAR-10 Batch 1:  loss: 1.9105384349822998, accuracy: 0.3118000030517578\n",
      "Epoch  4, CIFAR-10 Batch 2:  loss: 1.7299588918685913, accuracy: 0.3157999813556671\n",
      "Epoch  4, CIFAR-10 Batch 3:  loss: 1.7586339712142944, accuracy: 0.31519997119903564\n",
      "Epoch  4, CIFAR-10 Batch 4:  loss: 1.7174128293991089, accuracy: 0.3229999840259552\n",
      "Epoch  4, CIFAR-10 Batch 5:  loss: 1.7668399810791016, accuracy: 0.3338000178337097\n",
      "Epoch  5, CIFAR-10 Batch 1:  loss: 1.8242601156234741, accuracy: 0.3449999988079071\n",
      "Epoch  5, CIFAR-10 Batch 2:  loss: 1.6450799703598022, accuracy: 0.34579998254776\n",
      "Epoch  5, CIFAR-10 Batch 3:  loss: 1.7041990756988525, accuracy: 0.34939998388290405\n",
      "Epoch  5, CIFAR-10 Batch 4:  loss: 1.6446585655212402, accuracy: 0.35999995470046997\n",
      "Epoch  5, CIFAR-10 Batch 5:  loss: 1.6161844730377197, accuracy: 0.3757999837398529\n",
      "Epoch  6, CIFAR-10 Batch 1:  loss: 1.7408066987991333, accuracy: 0.3623999357223511\n",
      "Epoch  6, CIFAR-10 Batch 2:  loss: 1.538973331451416, accuracy: 0.368399977684021\n",
      "Epoch  6, CIFAR-10 Batch 3:  loss: 1.5764424800872803, accuracy: 0.3822000026702881\n",
      "Epoch  6, CIFAR-10 Batch 4:  loss: 1.5168827772140503, accuracy: 0.3933999538421631\n",
      "Epoch  6, CIFAR-10 Batch 5:  loss: 1.5743346214294434, accuracy: 0.3887999951839447\n",
      "Epoch  7, CIFAR-10 Batch 1:  loss: 1.6392796039581299, accuracy: 0.3840000331401825\n",
      "Epoch  7, CIFAR-10 Batch 2:  loss: 1.5116231441497803, accuracy: 0.3903999924659729\n",
      "Epoch  7, CIFAR-10 Batch 3:  loss: 1.4389941692352295, accuracy: 0.42399996519088745\n",
      "Epoch  7, CIFAR-10 Batch 4:  loss: 1.4496958255767822, accuracy: 0.43379995226860046\n",
      "Epoch  7, CIFAR-10 Batch 5:  loss: 1.4547221660614014, accuracy: 0.43039998412132263\n",
      "Epoch  8, CIFAR-10 Batch 1:  loss: 1.5468939542770386, accuracy: 0.4235999882221222\n",
      "Epoch  8, CIFAR-10 Batch 2:  loss: 1.4049066305160522, accuracy: 0.42899996042251587\n",
      "Epoch  8, CIFAR-10 Batch 3:  loss: 1.2943748235702515, accuracy: 0.4545999765396118\n",
      "Epoch  8, CIFAR-10 Batch 4:  loss: 1.3587769269943237, accuracy: 0.4649999737739563\n",
      "Epoch  8, CIFAR-10 Batch 5:  loss: 1.4015541076660156, accuracy: 0.46919992566108704\n",
      "Epoch  9, CIFAR-10 Batch 1:  loss: 1.4954606294631958, accuracy: 0.42879998683929443\n",
      "Epoch  9, CIFAR-10 Batch 2:  loss: 1.3659435510635376, accuracy: 0.4399999678134918\n",
      "Epoch  9, CIFAR-10 Batch 3:  loss: 1.277382493019104, accuracy: 0.4607999622821808\n",
      "Epoch  9, CIFAR-10 Batch 4:  loss: 1.286649465560913, accuracy: 0.47899994254112244\n",
      "Epoch  9, CIFAR-10 Batch 5:  loss: 1.3115285634994507, accuracy: 0.4899999499320984\n",
      "Epoch 10, CIFAR-10 Batch 1:  loss: 1.4375369548797607, accuracy: 0.46399998664855957\n",
      "Epoch 10, CIFAR-10 Batch 2:  loss: 1.293799638748169, accuracy: 0.48319995403289795\n",
      "Epoch 10, CIFAR-10 Batch 3:  loss: 1.1633191108703613, accuracy: 0.4923999607563019\n",
      "Epoch 10, CIFAR-10 Batch 4:  loss: 1.2291598320007324, accuracy: 0.491599977016449\n",
      "Epoch 10, CIFAR-10 Batch 5:  loss: 1.2647433280944824, accuracy: 0.4923999607563019\n",
      "Epoch 11, CIFAR-10 Batch 1:  loss: 1.3698911666870117, accuracy: 0.4975999891757965\n",
      "Epoch 11, CIFAR-10 Batch 2:  loss: 1.2226901054382324, accuracy: 0.47499996423721313\n",
      "Epoch 11, CIFAR-10 Batch 3:  loss: 1.1437625885009766, accuracy: 0.5041999816894531\n",
      "Epoch 11, CIFAR-10 Batch 4:  loss: 1.2208566665649414, accuracy: 0.5061999559402466\n",
      "Epoch 11, CIFAR-10 Batch 5:  loss: 1.2490664720535278, accuracy: 0.5031999349594116\n",
      "Epoch 12, CIFAR-10 Batch 1:  loss: 1.3259750604629517, accuracy: 0.49799996614456177\n",
      "Epoch 12, CIFAR-10 Batch 2:  loss: 1.14601731300354, accuracy: 0.4931999444961548\n",
      "Epoch 12, CIFAR-10 Batch 3:  loss: 1.096320390701294, accuracy: 0.5051999092102051\n",
      "Epoch 12, CIFAR-10 Batch 4:  loss: 1.138283610343933, accuracy: 0.5189999341964722\n",
      "Epoch 12, CIFAR-10 Batch 5:  loss: 1.1605653762817383, accuracy: 0.5157999396324158\n",
      "Epoch 13, CIFAR-10 Batch 1:  loss: 1.2331746816635132, accuracy: 0.5261999368667603\n",
      "Epoch 13, CIFAR-10 Batch 2:  loss: 1.0865087509155273, accuracy: 0.5173999071121216\n",
      "Epoch 13, CIFAR-10 Batch 3:  loss: 1.0118504762649536, accuracy: 0.5343999266624451\n",
      "Epoch 13, CIFAR-10 Batch 4:  loss: 1.1467270851135254, accuracy: 0.5067999362945557\n",
      "Epoch 13, CIFAR-10 Batch 5:  loss: 1.1107022762298584, accuracy: 0.5275999307632446\n",
      "Epoch 14, CIFAR-10 Batch 1:  loss: 1.2226696014404297, accuracy: 0.530799925327301\n",
      "Epoch 14, CIFAR-10 Batch 2:  loss: 1.058645486831665, accuracy: 0.5033999681472778\n",
      "Epoch 14, CIFAR-10 Batch 3:  loss: 1.054662823677063, accuracy: 0.5221999883651733\n",
      "Epoch 14, CIFAR-10 Batch 4:  loss: 1.0726988315582275, accuracy: 0.5247999429702759\n",
      "Epoch 14, CIFAR-10 Batch 5:  loss: 1.0731685161590576, accuracy: 0.5329999327659607\n",
      "Epoch 15, CIFAR-10 Batch 1:  loss: 1.145402431488037, accuracy: 0.5335999727249146\n",
      "Epoch 15, CIFAR-10 Batch 2:  loss: 1.0726544857025146, accuracy: 0.5175999999046326\n",
      "Epoch 15, CIFAR-10 Batch 3:  loss: 0.9995169639587402, accuracy: 0.5271999835968018\n",
      "Epoch 15, CIFAR-10 Batch 4:  loss: 1.0294077396392822, accuracy: 0.5491999387741089\n",
      "Epoch 15, CIFAR-10 Batch 5:  loss: 1.0244488716125488, accuracy: 0.5311999320983887\n",
      "Epoch 16, CIFAR-10 Batch 1:  loss: 1.1100651025772095, accuracy: 0.5317999124526978\n",
      "Epoch 16, CIFAR-10 Batch 2:  loss: 1.0381383895874023, accuracy: 0.5265999436378479\n",
      "Epoch 16, CIFAR-10 Batch 3:  loss: 0.9437505602836609, accuracy: 0.5477999448776245\n",
      "Epoch 16, CIFAR-10 Batch 4:  loss: 1.0917057991027832, accuracy: 0.5183999538421631\n",
      "Epoch 16, CIFAR-10 Batch 5:  loss: 1.0650302171707153, accuracy: 0.51419997215271\n",
      "Epoch 17, CIFAR-10 Batch 1:  loss: 1.0875074863433838, accuracy: 0.543199896812439\n",
      "Epoch 17, CIFAR-10 Batch 2:  loss: 1.061737060546875, accuracy: 0.5369999408721924\n",
      "Epoch 17, CIFAR-10 Batch 3:  loss: 0.9894880056381226, accuracy: 0.542199969291687\n",
      "Epoch 17, CIFAR-10 Batch 4:  loss: 1.0306990146636963, accuracy: 0.5335999131202698\n",
      "Epoch 17, CIFAR-10 Batch 5:  loss: 1.009564757347107, accuracy: 0.5309998989105225\n",
      "Epoch 18, CIFAR-10 Batch 1:  loss: 1.0779858827590942, accuracy: 0.5478000044822693\n",
      "Epoch 18, CIFAR-10 Batch 2:  loss: 1.0524314641952515, accuracy: 0.5305999517440796\n",
      "Epoch 18, CIFAR-10 Batch 3:  loss: 1.052040457725525, accuracy: 0.506399929523468\n",
      "Epoch 18, CIFAR-10 Batch 4:  loss: 1.0373793840408325, accuracy: 0.5357999205589294\n",
      "Epoch 18, CIFAR-10 Batch 5:  loss: 1.01601243019104, accuracy: 0.5199999213218689\n",
      "Epoch 19, CIFAR-10 Batch 1:  loss: 1.0691192150115967, accuracy: 0.5529999136924744\n",
      "Epoch 19, CIFAR-10 Batch 2:  loss: 0.9659826159477234, accuracy: 0.5511999130249023\n",
      "Epoch 19, CIFAR-10 Batch 3:  loss: 0.9418859481811523, accuracy: 0.53739994764328\n",
      "Epoch 19, CIFAR-10 Batch 4:  loss: 0.9599499702453613, accuracy: 0.555199921131134\n",
      "Epoch 19, CIFAR-10 Batch 5:  loss: 0.960543155670166, accuracy: 0.5509999990463257\n",
      "Epoch 20, CIFAR-10 Batch 1:  loss: 1.0308774709701538, accuracy: 0.5449999570846558\n",
      "Epoch 20, CIFAR-10 Batch 2:  loss: 0.9613252878189087, accuracy: 0.5529999136924744\n",
      "Epoch 20, CIFAR-10 Batch 3:  loss: 0.9206767082214355, accuracy: 0.5317999720573425\n"
     ]
    },
    {
     "name": "stdout",
     "output_type": "stream",
     "text": [
      "Epoch 20, CIFAR-10 Batch 4:  loss: 0.9445145726203918, accuracy: 0.5529999136924744\n",
      "Epoch 20, CIFAR-10 Batch 5:  loss: 0.9131841063499451, accuracy: 0.5611999034881592\n"
     ]
    }
   ],
   "source": [
    "\"\"\"\n",
    "DON'T MODIFY ANYTHING IN THIS CELL\n",
    "\"\"\"\n",
    "save_model_path = './image_classification'\n",
    "\n",
    "print('Training...')\n",
    "with tf.Session() as sess:\n",
    "    # Initializing the variables\n",
    "    sess.run(tf.global_variables_initializer())\n",
    "    \n",
    "    # Training cycle\n",
    "    for epoch in range(epochs):\n",
    "        # Loop over all batches\n",
    "        n_batches = 5\n",
    "        for batch_i in range(1, n_batches + 1):\n",
    "            for batch_features, batch_labels in helper.load_preprocess_training_batch(batch_i, batch_size):\n",
    "                train_neural_network(sess, optimizer, keep_probability, batch_features, batch_labels)\n",
    "            print('Epoch {:>2}, CIFAR-10 Batch {}:  '.format(epoch + 1, batch_i), end='')\n",
    "            print_stats(sess, batch_features, batch_labels, cost, accuracy)\n",
    "            \n",
    "    # Save Model\n",
    "    saver = tf.train.Saver()\n",
    "    save_path = saver.save(sess, save_model_path)"
   ]
  },
  {
   "cell_type": "markdown",
   "metadata": {},
   "source": [
    "# 检查点\n",
    "\n",
    "模型已保存到本地。\n",
    "\n",
    "## 测试模型\n",
    "\n",
    "利用测试数据集测试你的模型。这将是最终的准确率。你的准确率应该高于 50%。如果没达到，请继续调整模型结构和参数。"
   ]
  },
  {
   "cell_type": "code",
   "execution_count": 52,
   "metadata": {},
   "outputs": [
    {
     "name": "stdout",
     "output_type": "stream",
     "text": [
      "INFO:tensorflow:Restoring parameters from ./image_classification\n",
      "Testing Accuracy: 0.5690544575452805\n",
      "\n"
     ]
    },
    {
     "data": {
      "image/png": "[encoded data removed]",
      "text/plain": [
       "<matplotlib.figure.Figure at 0x7fec08586f28>"
      ]
     },
     "metadata": {
      "image/png": {
       "height": 319,
       "width": 355
      }
     },
     "output_type": "display_data"
    }
   ],
   "source": [
    "\"\"\"\n",
    "DON'T MODIFY ANYTHING IN THIS CELL\n",
    "\"\"\"\n",
    "%matplotlib inline\n",
    "%config InlineBackend.figure_format = 'retina'\n",
    "\n",
    "import tensorflow as tf\n",
    "import pickle\n",
    "import helper\n",
    "import random\n",
    "\n",
    "# Set batch size if not already set\n",
    "try:\n",
    "    if batch_size:\n",
    "        pass\n",
    "except NameError:\n",
    "    batch_size = 64\n",
    "\n",
    "save_model_path = './image_classification'\n",
    "n_samples = 4\n",
    "top_n_predictions = 3\n",
    "\n",
    "def test_model():\n",
    "    \"\"\"\n",
    "    Test the saved model against the test dataset\n",
    "    \"\"\"\n",
    "\n",
    "    test_features, test_labels = pickle.load(open('preprocess_test.p', mode='rb'))\n",
    "    loaded_graph = tf.Graph()\n",
    "\n",
    "    with tf.Session(graph=loaded_graph) as sess:\n",
    "        # Load model\n",
    "        loader = tf.train.import_meta_graph(save_model_path + '.meta')\n",
    "        loader.restore(sess, save_model_path)\n",
    "\n",
    "        # Get Tensors from loaded model\n",
    "        loaded_x = loaded_graph.get_tensor_by_name('x:0')\n",
    "        loaded_y = loaded_graph.get_tensor_by_name('y:0')\n",
    "        loaded_keep_prob = loaded_graph.get_tensor_by_name('keep_prob:0')\n",
    "        loaded_logits = loaded_graph.get_tensor_by_name('logits:0')\n",
    "        loaded_acc = loaded_graph.get_tensor_by_name('accuracy:0')\n",
    "        \n",
    "        # Get accuracy in batches for memory limitations\n",
    "        test_batch_acc_total = 0\n",
    "        test_batch_count = 0\n",
    "        \n",
    "        for test_feature_batch, test_label_batch in helper.batch_features_labels(test_features, test_labels, batch_size):\n",
    "            test_batch_acc_total += sess.run(\n",
    "                loaded_acc,\n",
    "                feed_dict={loaded_x: test_feature_batch, loaded_y: test_label_batch, loaded_keep_prob: 1.0})\n",
    "            test_batch_count += 1\n",
    "\n",
    "        print('Testing Accuracy: {}\\n'.format(test_batch_acc_total/test_batch_count))\n",
    "\n",
    "        # Print Random Samples\n",
    "        random_test_features, random_test_labels = tuple(zip(*random.sample(list(zip(test_features, test_labels)), n_samples)))\n",
    "        random_test_predictions = sess.run(\n",
    "            tf.nn.top_k(tf.nn.softmax(loaded_logits), top_n_predictions),\n",
    "            feed_dict={loaded_x: random_test_features, loaded_y: random_test_labels, loaded_keep_prob: 1.0})\n",
    "        helper.display_image_predictions(random_test_features, random_test_labels, random_test_predictions)\n",
    "\n",
    "\n",
    "test_model()"
   ]
  },
  {
   "cell_type": "markdown",
   "metadata": {},
   "source": [
    "## 为何准确率只有50-80%？\n",
    "\n",
    "你可能想问，为何准确率不能更高了？首先，对于简单的 CNN 网络来说，50% 已经不低了。纯粹猜测的准确率为10%。但是，你可能注意到有人的准确率[远远超过 80%](http://rodrigob.github.io/are_we_there_yet/build/classification_datasets_results.html#43494641522d3130)。这是因为我们还没有介绍所有的神经网络知识。我们还需要掌握一些其他技巧。\n",
    "\n",
    "## 提交项目\n",
    "\n",
    "提交项目时，确保先运行所有单元，然后再保存记事本。将 notebook 文件另存为“dlnd_image_classification.ipynb”，再在目录 \"File\" -> \"Download as\" 另存为 HTML 格式。请在提交的项目中包含 “helper.py” 和 “problem_unittests.py” 文件。\n"
   ]
  }
 ],
 "metadata": {
  "kernelspec": {
   "display_name": "Python 3",
   "language": "python",
   "name": "python3"
  },
  "language_info": {
   "codemirror_mode": {
    "name": "ipython",
    "version": 3
   },
   "file_extension": ".py",
   "mimetype": "text/x-python",
   "name": "python",
   "nbconvert_exporter": "python",
   "pygments_lexer": "ipython3",
   "version": "3.6.1"
  }
 },
 "nbformat": 4,
 "nbformat_minor": 1
}
